{
 "cells": [
  {
   "cell_type": "code",
   "execution_count": 10,
   "id": "d3374659",
   "metadata": {},
   "outputs": [],
   "source": [
    "import matplotlib.pyplot as plt\n",
    "import numpy as np\n",
    "from scipy import stats\n",
    "import viz # curriculum viz example code\n",
    "\n",
    "np.random.seed(123)"
   ]
  },
  {
   "cell_type": "markdown",
   "id": "7abe195a",
   "metadata": {},
   "source": [
    "## Q1"
   ]
  },
  {
   "cell_type": "code",
   "execution_count": 11,
   "id": "70d997cd",
   "metadata": {},
   "outputs": [
    {
     "data": {
      "text/plain": [
       "0.1353352832366127"
      ]
     },
     "execution_count": 11,
     "metadata": {},
     "output_type": "execute_result"
    }
   ],
   "source": [
    "#probability no cars drive up in the noon hour\n",
    "stats.poisson(2).pmf(0)"
   ]
  },
  {
   "cell_type": "code",
   "execution_count": 93,
   "id": "a9853157",
   "metadata": {},
   "outputs": [
    {
     "data": {
      "text/plain": [
       "0.32332358381693654"
      ]
     },
     "execution_count": 93,
     "metadata": {},
     "output_type": "execute_result"
    }
   ],
   "source": [
    "#probability that 3 or more cars come through the drive through\n",
    "stats.poisson(2).sf(2)"
   ]
  },
  {
   "cell_type": "code",
   "execution_count": 94,
   "id": "eab3f4ae",
   "metadata": {},
   "outputs": [
    {
     "data": {
      "text/plain": [
       "0.8646647167633873"
      ]
     },
     "execution_count": 94,
     "metadata": {},
     "output_type": "execute_result"
    }
   ],
   "source": [
    "#probability that the drive through gets at least 1 car\n",
    "stats.poisson(2).sf(0)"
   ]
  },
  {
   "cell_type": "markdown",
   "id": "fd80e6e8",
   "metadata": {},
   "source": [
    "## Q2"
   ]
  },
  {
   "cell_type": "code",
   "execution_count": 25,
   "id": "ae1abc87",
   "metadata": {},
   "outputs": [
    {
     "data": {
      "text/plain": [
       "3.4934560880854417"
      ]
     },
     "execution_count": 25,
     "metadata": {},
     "output_type": "execute_result"
    }
   ],
   "source": [
    "gpa = stats.norm(3.0,.3)\n",
    "\n",
    "#gpa required for top 5% percentile\n",
    "top5percent = gpa.ppf(.95)\n",
    "top5percent"
   ]
  },
  {
   "cell_type": "code",
   "execution_count": 26,
   "id": "9297ec21",
   "metadata": {},
   "outputs": [
    {
     "data": {
      "text/plain": [
       "2.689069983151863"
      ]
     },
     "execution_count": 26,
     "metadata": {},
     "output_type": "execute_result"
    }
   ],
   "source": [
    "#gpa for the bottom 15% and below\n",
    "bottom15percent = gpa.ppf(.15)\n",
    "bottom15percent"
   ]
  },
  {
   "cell_type": "code",
   "execution_count": 96,
   "id": "ddfc2b5e",
   "metadata": {},
   "outputs": [
    {
     "data": {
      "text/plain": [
       "array([2.74751363, 2.84267985])"
      ]
     },
     "execution_count": 96,
     "metadata": {},
     "output_type": "execute_result"
    }
   ],
   "source": [
    "#gpa for scholarship money\n",
    "schol = gpa.ppf([.2,.3])\n",
    "schol\n",
    "#2.8 is within the third decile and would qualify"
   ]
  },
  {
   "cell_type": "code",
   "execution_count": 30,
   "id": "43b6e029",
   "metadata": {},
   "outputs": [
    {
     "data": {
      "text/plain": [
       "0.9522096477271853"
      ]
     },
     "execution_count": 30,
     "metadata": {},
     "output_type": "execute_result"
    }
   ],
   "source": [
    "gpa.cdf(3.5)\n",
    "#gpa of 3.5 puts you in the top 5% or 4.78%"
   ]
  },
  {
   "cell_type": "markdown",
   "id": "56e172ab",
   "metadata": {},
   "source": [
    "## Q3"
   ]
  },
  {
   "cell_type": "code",
   "execution_count": 98,
   "id": "ff0629ba",
   "metadata": {},
   "outputs": [
    {
     "data": {
      "text/plain": [
       "0.13975823631416448"
      ]
     },
     "execution_count": 98,
     "metadata": {},
     "output_type": "execute_result"
    }
   ],
   "source": [
    "stats.binom(4326, .02).sf(96)\n",
    "#13.98% probability to get 97 or more click throughs"
   ]
  },
  {
   "cell_type": "markdown",
   "id": "4558d8b4",
   "metadata": {},
   "source": [
    "## Q4"
   ]
  },
  {
   "cell_type": "code",
   "execution_count": 101,
   "id": "64966c8e",
   "metadata": {},
   "outputs": [
    {
     "data": {
      "text/plain": [
       "0.45284335760923855"
      ]
     },
     "execution_count": 101,
     "metadata": {},
     "output_type": "execute_result"
    }
   ],
   "source": [
    "#60 trials, 100 possibilities, need 1 success\n",
    "stats.binom(60, .01).sf(0)\n",
    "#There is a 45.28% chance of getting at least 1 success"
   ]
  },
  {
   "cell_type": "markdown",
   "id": "8d6ab0f5",
   "metadata": {},
   "source": [
    "## Q5"
   ]
  },
  {
   "cell_type": "code",
   "execution_count": 87,
   "id": "5215c2a4",
   "metadata": {},
   "outputs": [],
   "source": [
    "stu_active = .9*(3.0*22.0)\n",
    "stu_active\n",
    "#60 students\n",
    "stu_active = 60"
   ]
  },
  {
   "cell_type": "code",
   "execution_count": 108,
   "id": "1c5b25ac",
   "metadata": {},
   "outputs": [
    {
     "data": {
      "text/plain": [
       "0.8391933309784232"
      ]
     },
     "execution_count": 108,
     "metadata": {},
     "output_type": "execute_result"
    }
   ],
   "source": [
    "#probability of clean any given day is 54.07%\n",
    "clean = stats.binom(60, .03).sf(0)\n",
    "stats.binom(60, .03).sf(0)"
   ]
  },
  {
   "cell_type": "code",
   "execution_count": 109,
   "id": "3e23b577",
   "metadata": {},
   "outputs": [
    {
     "data": {
      "text/plain": [
       "0.02585878480181495"
      ]
     },
     "execution_count": 109,
     "metadata": {},
     "output_type": "execute_result"
    }
   ],
   "source": [
    "#probability of two days not clean is 25.85%\n",
    "stats.binom(2,(1-clean)).pmf(2)"
   ]
  },
  {
   "cell_type": "code",
   "execution_count": 110,
   "id": "811605a5",
   "metadata": {},
   "outputs": [
    {
     "data": {
      "text/plain": [
       "0.00010752768104907658"
      ]
     },
     "execution_count": 110,
     "metadata": {},
     "output_type": "execute_result"
    }
   ],
   "source": [
    "#probability of 5 days not clean is 0.1%\n",
    "stats.binom(5,(1-clean)).pmf(5)"
   ]
  },
  {
   "cell_type": "markdown",
   "id": "43122961",
   "metadata": {},
   "source": [
    "## Q6"
   ]
  },
  {
   "cell_type": "code",
   "execution_count": 112,
   "id": "71b3bf4c",
   "metadata": {},
   "outputs": [
    {
     "data": {
      "text/plain": [
       "0.6914624612740131"
      ]
     },
     "execution_count": 112,
     "metadata": {},
     "output_type": "execute_result"
    }
   ],
   "source": [
    "#60 - 15 - 10 - 2 = 33min can be in line\n",
    "stats.norm(30,6).cdf(33)"
   ]
  },
  {
   "cell_type": "markdown",
   "id": "4df34396",
   "metadata": {},
   "source": [
    "## Q7"
   ]
  },
  {
   "cell_type": "code",
   "execution_count": null,
   "id": "7b502c23",
   "metadata": {},
   "outputs": [],
   "source": [
    "url = env.get_db_url('employees')\n"
   ]
  }
 ],
 "metadata": {
  "kernelspec": {
   "display_name": "Python 3 (ipykernel)",
   "language": "python",
   "name": "python3"
  },
  "language_info": {
   "codemirror_mode": {
    "name": "ipython",
    "version": 3
   },
   "file_extension": ".py",
   "mimetype": "text/x-python",
   "name": "python",
   "nbconvert_exporter": "python",
   "pygments_lexer": "ipython3",
   "version": "3.9.12"
  }
 },
 "nbformat": 4,
 "nbformat_minor": 5
}
