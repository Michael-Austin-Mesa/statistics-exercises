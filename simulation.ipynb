{
 "cells": [
  {
   "cell_type": "code",
   "execution_count": 1,
   "id": "4b0b01e6",
   "metadata": {},
   "outputs": [],
   "source": [
    "import numpy as np\n",
    "import pandas as pd\n",
    "import matplotlib.pyplot as plt\n",
    "%config InlineBackend.figure_format = 'retina'"
   ]
  },
  {
   "cell_type": "markdown",
   "id": "3f2a46de",
   "metadata": {},
   "source": [
    "## Q1"
   ]
  },
  {
   "cell_type": "code",
   "execution_count": 2,
   "id": "168be77d",
   "metadata": {},
   "outputs": [
    {
     "data": {
      "text/plain": [
       "array([[6],\n",
       "       [5],\n",
       "       [2],\n",
       "       ...,\n",
       "       [1],\n",
       "       [6],\n",
       "       [3]])"
      ]
     },
     "execution_count": 2,
     "metadata": {},
     "output_type": "execute_result"
    }
   ],
   "source": [
    "n_trials = nrows = 10_000\n",
    "n_dice = ncols = 1\n",
    "\n",
    "roll1 = np.random.choice([1, 2, 3, 4, 5, 6], n_trials * n_dice).reshape(nrows, ncols)\n",
    "roll2 = np.random.choice([1, 2, 3, 4, 5, 6], n_trials * n_dice).reshape(nrows, ncols)\n",
    "\n",
    "roll1\n",
    "roll2"
   ]
  },
  {
   "cell_type": "code",
   "execution_count": 58,
   "id": "4a81b2a9",
   "metadata": {},
   "outputs": [
    {
     "data": {
      "text/plain": [
       "array([[1, 3],\n",
       "       [2, 2],\n",
       "       [2, 4],\n",
       "       ...,\n",
       "       [4, 3],\n",
       "       [4, 4],\n",
       "       [4, 6]])"
      ]
     },
     "execution_count": 58,
     "metadata": {},
     "output_type": "execute_result"
    }
   ],
   "source": [
    "rolls = np.random.choice([1,2,3,4,5,6], size = (100000, 2))\n",
    "rolls"
   ]
  },
  {
   "cell_type": "code",
   "execution_count": 59,
   "id": "cd658347",
   "metadata": {},
   "outputs": [
    {
     "data": {
      "text/plain": [
       "0.1661"
      ]
     },
     "execution_count": 59,
     "metadata": {},
     "output_type": "execute_result"
    }
   ],
   "source": [
    "(rolls[:,0] == rolls[:,1]).mean()"
   ]
  },
  {
   "cell_type": "code",
   "execution_count": 3,
   "id": "c01adc63",
   "metadata": {},
   "outputs": [
    {
     "data": {
      "text/plain": [
       "array([[ True],\n",
       "       [False],\n",
       "       [False],\n",
       "       ...,\n",
       "       [False],\n",
       "       [False],\n",
       "       [False]])"
      ]
     },
     "execution_count": 3,
     "metadata": {},
     "output_type": "execute_result"
    }
   ],
   "source": [
    "doubles = roll1 == roll2\n",
    "doubles"
   ]
  },
  {
   "cell_type": "code",
   "execution_count": 4,
   "id": "9ffe0bb4",
   "metadata": {},
   "outputs": [
    {
     "data": {
      "text/plain": [
       "1673"
      ]
     },
     "execution_count": 4,
     "metadata": {},
     "output_type": "execute_result"
    }
   ],
   "source": [
    "total_doubles = doubles.sum()\n",
    "total_doubles"
   ]
  },
  {
   "cell_type": "code",
   "execution_count": 5,
   "id": "7c7013bb",
   "metadata": {},
   "outputs": [
    {
     "data": {
      "text/plain": [
       "0.1673"
      ]
     },
     "execution_count": 5,
     "metadata": {},
     "output_type": "execute_result"
    }
   ],
   "source": [
    "doubles_rate = doubles.astype(int).mean()\n",
    "doubles_rate"
   ]
  },
  {
   "cell_type": "markdown",
   "id": "2a8d6e2b",
   "metadata": {},
   "source": [
    "The probability of rolling doubles when rolling two dice is .1609 out of 1, or ~16% of 100%"
   ]
  },
  {
   "cell_type": "markdown",
   "id": "bb3ced98",
   "metadata": {},
   "source": [
    "## Q2"
   ]
  },
  {
   "cell_type": "code",
   "execution_count": 6,
   "id": "d5cda22b",
   "metadata": {},
   "outputs": [
    {
     "data": {
      "text/plain": [
       "array([[0, 1, 0, ..., 1, 1, 0],\n",
       "       [0, 0, 0, ..., 1, 1, 0],\n",
       "       [1, 1, 1, ..., 0, 1, 1],\n",
       "       ...,\n",
       "       [1, 0, 1, ..., 0, 1, 1],\n",
       "       [0, 1, 1, ..., 0, 1, 0],\n",
       "       [1, 1, 1, ..., 1, 1, 1]])"
      ]
     },
     "execution_count": 6,
     "metadata": {},
     "output_type": "execute_result"
    }
   ],
   "source": [
    "n_trials = nrows = 10_000\n",
    "n_coins = ncols = 8\n",
    "\n",
    "flips = np.random.choice([0,1], n_trials * n_coins).reshape(nrows, ncols)\n",
    "flips"
   ]
  },
  {
   "cell_type": "code",
   "execution_count": 7,
   "id": "f1692c49",
   "metadata": {},
   "outputs": [
    {
     "data": {
      "text/plain": [
       "array([5, 3, 5, ..., 6, 3, 7])"
      ]
     },
     "execution_count": 7,
     "metadata": {},
     "output_type": "execute_result"
    }
   ],
   "source": [
    "headcount = flips.sum(axis=1)\n",
    "headcount"
   ]
  },
  {
   "cell_type": "code",
   "execution_count": 8,
   "id": "dd9b4bfa",
   "metadata": {},
   "outputs": [
    {
     "data": {
      "text/plain": [
       "array([False,  True, False, ..., False,  True, False])"
      ]
     },
     "execution_count": 8,
     "metadata": {},
     "output_type": "execute_result"
    }
   ],
   "source": [
    "success1 = headcount == 3\n",
    "success1"
   ]
  },
  {
   "cell_type": "code",
   "execution_count": 9,
   "id": "65ae1d65",
   "metadata": {},
   "outputs": [
    {
     "data": {
      "text/plain": [
       "2216"
      ]
     },
     "execution_count": 9,
     "metadata": {},
     "output_type": "execute_result"
    }
   ],
   "source": [
    "success1.sum()"
   ]
  },
  {
   "cell_type": "code",
   "execution_count": 10,
   "id": "7be209b8",
   "metadata": {},
   "outputs": [
    {
     "data": {
      "text/plain": [
       "0.2216"
      ]
     },
     "execution_count": 10,
     "metadata": {},
     "output_type": "execute_result"
    }
   ],
   "source": [
    "success1_rate = success1.astype(int).mean()\n",
    "success1_rate"
   ]
  },
  {
   "cell_type": "markdown",
   "id": "712cc48c",
   "metadata": {},
   "source": [
    "The probability of getting exactly 3 heads is ~22% of 100%"
   ]
  },
  {
   "cell_type": "code",
   "execution_count": 11,
   "id": "fbd54439",
   "metadata": {},
   "outputs": [
    {
     "data": {
      "text/plain": [
       "array([ True, False,  True, ...,  True, False,  True])"
      ]
     },
     "execution_count": 11,
     "metadata": {},
     "output_type": "execute_result"
    }
   ],
   "source": [
    "success2 = headcount > 3\n",
    "success2"
   ]
  },
  {
   "cell_type": "code",
   "execution_count": 12,
   "id": "1bd89b2d",
   "metadata": {},
   "outputs": [
    {
     "data": {
      "text/plain": [
       "6411"
      ]
     },
     "execution_count": 12,
     "metadata": {},
     "output_type": "execute_result"
    }
   ],
   "source": [
    "success2.sum()"
   ]
  },
  {
   "cell_type": "code",
   "execution_count": 13,
   "id": "25ff7c40",
   "metadata": {},
   "outputs": [
    {
     "data": {
      "text/plain": [
       "0.6411"
      ]
     },
     "execution_count": 13,
     "metadata": {},
     "output_type": "execute_result"
    }
   ],
   "source": [
    "success2_rate = success2.astype(int).mean()\n",
    "success2_rate"
   ]
  },
  {
   "cell_type": "markdown",
   "id": "15fbd5bc",
   "metadata": {},
   "source": [
    "The probability of getting more than 3 heads is ~64% of 100%"
   ]
  },
  {
   "cell_type": "markdown",
   "id": "b1d5eaa6",
   "metadata": {},
   "source": [
    "## Q3"
   ]
  },
  {
   "cell_type": "code",
   "execution_count": 14,
   "id": "7a39b03d",
   "metadata": {},
   "outputs": [
    {
     "data": {
      "text/plain": [
       "array([[4, 2],\n",
       "       [2, 3],\n",
       "       [1, 4],\n",
       "       ...,\n",
       "       [3, 1],\n",
       "       [2, 3],\n",
       "       [3, 1]])"
      ]
     },
     "execution_count": 14,
     "metadata": {},
     "output_type": "execute_result"
    }
   ],
   "source": [
    "n_trials = nrows = 10_000\n",
    "n_alum = ncols = 2\n",
    "\n",
    "alum = np.random.choice([1,2,3,4], n_trials * n_alum).reshape(nrows, ncols)\n",
    "alum"
   ]
  },
  {
   "cell_type": "markdown",
   "id": "0b73a133",
   "metadata": {},
   "source": [
    "Let's say that a value of 1 means that the chosen student is from data science."
   ]
  },
  {
   "cell_type": "code",
   "execution_count": 15,
   "id": "b003cf25",
   "metadata": {},
   "outputs": [
    {
     "data": {
      "text/plain": [
       "array([6, 5, 5, ..., 4, 5, 4])"
      ]
     },
     "execution_count": 15,
     "metadata": {},
     "output_type": "execute_result"
    }
   ],
   "source": [
    "alum_select = alum.sum(axis=1)\n",
    "alum_select"
   ]
  },
  {
   "cell_type": "code",
   "execution_count": 16,
   "id": "f78c325d",
   "metadata": {},
   "outputs": [
    {
     "data": {
      "text/plain": [
       "array([False, False, False, ..., False, False, False])"
      ]
     },
     "execution_count": 16,
     "metadata": {},
     "output_type": "execute_result"
    }
   ],
   "source": [
    "double_ds = alum_select == 2\n",
    "double_ds"
   ]
  },
  {
   "cell_type": "code",
   "execution_count": 17,
   "id": "827f1db9",
   "metadata": {},
   "outputs": [
    {
     "data": {
      "text/plain": [
       "628"
      ]
     },
     "execution_count": 17,
     "metadata": {},
     "output_type": "execute_result"
    }
   ],
   "source": [
    "double_ds.sum()"
   ]
  },
  {
   "cell_type": "code",
   "execution_count": 18,
   "id": "9a398067",
   "metadata": {},
   "outputs": [
    {
     "data": {
      "text/plain": [
       "0.0628"
      ]
     },
     "execution_count": 18,
     "metadata": {},
     "output_type": "execute_result"
    }
   ],
   "source": [
    "double_ds_rate = double_ds.astype(int).mean()\n",
    "double_ds_rate"
   ]
  },
  {
   "cell_type": "markdown",
   "id": "880b65da",
   "metadata": {},
   "source": [
    "There is a 6.24% probability of DS alumni being on two billboards passed in a row."
   ]
  },
  {
   "cell_type": "markdown",
   "id": "6275c528",
   "metadata": {},
   "source": [
    "## Q4"
   ]
  },
  {
   "cell_type": "code",
   "execution_count": 60,
   "id": "83186e87",
   "metadata": {
    "scrolled": true
   },
   "outputs": [
    {
     "data": {
      "text/plain": [
       "array([[-0.16266528,  4.01760181,  4.90879766,  1.57452652,  2.30087789],\n",
       "       [ 4.31890948,  3.68805796,  2.30053775,  2.51828164,  2.10467431],\n",
       "       [ 3.28761483,  2.00153407,  0.90936841, -0.58490341,  5.0223745 ],\n",
       "       ...,\n",
       "       [ 1.98145248,  5.08842063,  2.08140072,  1.69327044,  5.01752901],\n",
       "       [ 3.27475418,  2.3005784 ,  4.82354352,  4.09105161,  2.69950988],\n",
       "       [ 3.76753287,  1.83209075,  2.09330456,  3.19202689, -0.1766033 ]])"
      ]
     },
     "execution_count": 60,
     "metadata": {},
     "output_type": "execute_result"
    }
   ],
   "source": [
    "n_trials = nrows = 10_000\n",
    "n_pops = ncols = 5\n",
    "\n",
    "pops_weekly=np.random.normal(3, 1.5, 50000).reshape(nrows,ncols)\n",
    "pops_weekly"
   ]
  },
  {
   "cell_type": "code",
   "execution_count": 61,
   "id": "2041bf98",
   "metadata": {},
   "outputs": [
    {
     "data": {
      "text/plain": [
       "array([ 4.3608614 ,  2.06953884,  6.3640116 , ...,  1.13792671,\n",
       "       -0.18943759,  6.29164823])"
      ]
     },
     "execution_count": 61,
     "metadata": {},
     "output_type": "execute_result"
    }
   ],
   "source": [
    "friday=17-pops_weekly.sum(axis=1)\n",
    "friday"
   ]
  },
  {
   "cell_type": "code",
   "execution_count": 66,
   "id": "d6047f07",
   "metadata": {},
   "outputs": [
    {
     "data": {
      "text/plain": [
       "array([ True,  True,  True, ...,  True, False,  True])"
      ]
     },
     "execution_count": 66,
     "metadata": {},
     "output_type": "execute_result"
    }
   ],
   "source": [
    "pop_fri = friday > 0\n",
    "pop_fri"
   ]
  },
  {
   "cell_type": "code",
   "execution_count": 67,
   "id": "bf39046f",
   "metadata": {},
   "outputs": [
    {
     "data": {
      "text/plain": [
       "0.7183"
      ]
     },
     "execution_count": 67,
     "metadata": {},
     "output_type": "execute_result"
    }
   ],
   "source": [
    "pop_fri_rate = pop_fri.astype(int).mean()\n",
    "pop_fri_rate"
   ]
  },
  {
   "cell_type": "markdown",
   "id": "da9678f3",
   "metadata": {},
   "source": [
    "There is a ~72% probability that there will be poptarts available by Friday afternoon."
   ]
  },
  {
   "cell_type": "markdown",
   "id": "98b8c453",
   "metadata": {},
   "source": [
    "## Q5"
   ]
  },
  {
   "cell_type": "code",
   "execution_count": 23,
   "id": "34df6889",
   "metadata": {},
   "outputs": [],
   "source": [
    "n_trials = nrows = 10_000\n",
    "n_people = ncols = 2\n",
    "\n",
    "men = np.random.normal(178, 8, nrows)\n",
    "women = np.random.normal(170, 6, nrows)\n",
    "#men_and_women = [men,women]\n",
    "#men_and_women"
   ]
  },
  {
   "cell_type": "code",
   "execution_count": 24,
   "id": "ec56f04d",
   "metadata": {},
   "outputs": [
    {
     "data": {
      "text/plain": [
       "array([False, False,  True, ..., False, False,  True])"
      ]
     },
     "execution_count": 24,
     "metadata": {},
     "output_type": "execute_result"
    }
   ],
   "source": [
    "women_taller = men < women\n",
    "women_taller"
   ]
  },
  {
   "cell_type": "code",
   "execution_count": 25,
   "id": "63fc9028",
   "metadata": {},
   "outputs": [
    {
     "data": {
      "text/plain": [
       "0.2189"
      ]
     },
     "execution_count": 25,
     "metadata": {},
     "output_type": "execute_result"
    }
   ],
   "source": [
    "women_taller.astype(int).mean()"
   ]
  },
  {
   "cell_type": "markdown",
   "id": "39acfeb9",
   "metadata": {},
   "source": [
    "There is ~21% probability of the woman being taller than the man."
   ]
  },
  {
   "cell_type": "markdown",
   "id": "e7096059",
   "metadata": {},
   "source": [
    "## Q6"
   ]
  },
  {
   "cell_type": "code",
   "execution_count": 73,
   "id": "d61d8ec0",
   "metadata": {},
   "outputs": [],
   "source": [
    "n_trials = nrows = 10000\n",
    "n_students = ncols = 50\n",
    "\n",
    "installs = np.random.uniform(1,250, nrows*ncols).astype(int).reshape(nrows,ncols)\n",
    "#installs"
   ]
  },
  {
   "cell_type": "code",
   "execution_count": 74,
   "id": "2ae1e95e",
   "metadata": {},
   "outputs": [],
   "source": [
    "corrupt = installs == 1\n",
    "#corrupt"
   ]
  },
  {
   "cell_type": "code",
   "execution_count": 75,
   "id": "d7882327",
   "metadata": {},
   "outputs": [
    {
     "data": {
      "text/plain": [
       "0.004154"
      ]
     },
     "execution_count": 75,
     "metadata": {},
     "output_type": "execute_result"
    }
   ],
   "source": [
    "corrupt_rate = corrupt.astype(int).mean()\n",
    "corrupt_rate"
   ]
  },
  {
   "cell_type": "code",
   "execution_count": 76,
   "id": "e217710a",
   "metadata": {},
   "outputs": [
    {
     "data": {
      "text/plain": [
       "0.8137"
      ]
     },
     "execution_count": 76,
     "metadata": {},
     "output_type": "execute_result"
    }
   ],
   "source": [
    "(corrupt.sum(axis=1) == 0).mean()"
   ]
  },
  {
   "cell_type": "markdown",
   "id": "a216a31e",
   "metadata": {},
   "source": [
    "Out of 50 students, ~.4% (1 student) had a corrupted download."
   ]
  },
  {
   "cell_type": "markdown",
   "id": "1dc4a8ee",
   "metadata": {},
   "source": [
    "About 81% chance of installation resulting in no corruption."
   ]
  },
  {
   "cell_type": "code",
   "execution_count": 93,
   "id": "a959a27b",
   "metadata": {},
   "outputs": [],
   "source": [
    "n_trials = nrows = 10000\n",
    "n_students = ncols = 100\n",
    "\n",
    "installs = np.random.uniform(1,250, nrows*ncols).astype(int).reshape(nrows,ncols)\n",
    "#installs"
   ]
  },
  {
   "cell_type": "code",
   "execution_count": 94,
   "id": "7ec9c842",
   "metadata": {},
   "outputs": [],
   "source": [
    "corrupt = installs == 1\n",
    "#corrupt"
   ]
  },
  {
   "cell_type": "code",
   "execution_count": 95,
   "id": "01391c99",
   "metadata": {},
   "outputs": [
    {
     "data": {
      "text/plain": [
       "0.004099"
      ]
     },
     "execution_count": 95,
     "metadata": {},
     "output_type": "execute_result"
    }
   ],
   "source": [
    "corrupt_rate = corrupt.astype(int).mean()\n",
    "corrupt_rate"
   ]
  },
  {
   "cell_type": "code",
   "execution_count": 80,
   "id": "c4e073fb",
   "metadata": {},
   "outputs": [
    {
     "data": {
      "text/plain": [
       "0.6627"
      ]
     },
     "execution_count": 80,
     "metadata": {},
     "output_type": "execute_result"
    }
   ],
   "source": [
    "(corrupt.sum(axis=1) == 0).mean()"
   ]
  },
  {
   "cell_type": "markdown",
   "id": "f67446fe",
   "metadata": {},
   "source": [
    "~66% chance of no corruption"
   ]
  },
  {
   "cell_type": "code",
   "execution_count": 96,
   "id": "76036458",
   "metadata": {},
   "outputs": [],
   "source": [
    "n_trials = nrows = 10000\n",
    "n_students = ncols = 150\n",
    "\n",
    "installs = np.random.uniform(1,250, nrows*ncols).astype(int).reshape(nrows,ncols)\n",
    "#installs"
   ]
  },
  {
   "cell_type": "code",
   "execution_count": 97,
   "id": "dbf578b8",
   "metadata": {},
   "outputs": [],
   "source": [
    "corrupt = installs == 1"
   ]
  },
  {
   "cell_type": "code",
   "execution_count": 98,
   "id": "c14a9254",
   "metadata": {},
   "outputs": [
    {
     "data": {
      "text/plain": [
       "0.004036666666666667"
      ]
     },
     "execution_count": 98,
     "metadata": {},
     "output_type": "execute_result"
    }
   ],
   "source": [
    "corrupt_rate = corrupt.astype(int).mean()\n",
    "corrupt_rate"
   ]
  },
  {
   "cell_type": "code",
   "execution_count": 99,
   "id": "61f2fa4a",
   "metadata": {},
   "outputs": [
    {
     "data": {
      "text/plain": [
       "0.5407"
      ]
     },
     "execution_count": 99,
     "metadata": {},
     "output_type": "execute_result"
    }
   ],
   "source": [
    "(corrupt.sum(axis=1) == 0).mean()"
   ]
  },
  {
   "cell_type": "markdown",
   "id": "e0dfeace",
   "metadata": {},
   "source": [
    "~54% chance of no corruption"
   ]
  },
  {
   "cell_type": "code",
   "execution_count": 100,
   "id": "0ea36910",
   "metadata": {},
   "outputs": [],
   "source": [
    "n_trials = nrows = 10000\n",
    "n_students = ncols = 450\n",
    "\n",
    "installs = np.random.uniform(1,250, nrows*ncols).astype(int).reshape(nrows,ncols)\n",
    "#installs"
   ]
  },
  {
   "cell_type": "code",
   "execution_count": 101,
   "id": "2dac117d",
   "metadata": {},
   "outputs": [],
   "source": [
    "corrupt = installs == 1"
   ]
  },
  {
   "cell_type": "code",
   "execution_count": 102,
   "id": "55ca3efc",
   "metadata": {},
   "outputs": [
    {
     "data": {
      "text/plain": [
       "0.004041111111111111"
      ]
     },
     "execution_count": 102,
     "metadata": {},
     "output_type": "execute_result"
    }
   ],
   "source": [
    "corrupt_rate = corrupt.astype(int).mean()\n",
    "corrupt_rate"
   ]
  },
  {
   "cell_type": "code",
   "execution_count": 103,
   "id": "1625f002",
   "metadata": {},
   "outputs": [
    {
     "data": {
      "text/plain": [
       "0.1668"
      ]
     },
     "execution_count": 103,
     "metadata": {},
     "output_type": "execute_result"
    }
   ],
   "source": [
    "(corrupt.sum(axis=1) == 0).mean()"
   ]
  },
  {
   "cell_type": "markdown",
   "id": "3390011f",
   "metadata": {},
   "source": [
    "~16.7% chance of no corruption"
   ]
  },
  {
   "cell_type": "markdown",
   "id": "c451c2eb",
   "metadata": {},
   "source": [
    "## Q7"
   ]
  },
  {
   "cell_type": "code",
   "execution_count": 104,
   "id": "de758bfa",
   "metadata": {},
   "outputs": [],
   "source": [
    "n_trials = nrows = 10000\n",
    "n_week = ncols = 7\n",
    "\n",
    "truck_chance = np.random.random(nrows*ncols).reshape(nrows,ncols)\n",
    "#truck_chance"
   ]
  },
  {
   "cell_type": "code",
   "execution_count": 105,
   "id": "21a9a71a",
   "metadata": {},
   "outputs": [
    {
     "data": {
      "text/plain": [
       "array([[False,  True,  True, ...,  True, False,  True],\n",
       "       [ True,  True,  True, ...,  True,  True,  True],\n",
       "       [ True,  True,  True, ...,  True, False,  True],\n",
       "       ...,\n",
       "       [ True,  True,  True, ...,  True,  True,  True],\n",
       "       [False,  True,  True, ...,  True,  True,  True],\n",
       "       [ True,  True,  True, ...,  True, False,  True]])"
      ]
     },
     "execution_count": 105,
     "metadata": {},
     "output_type": "execute_result"
    }
   ],
   "source": [
    "truck_present = truck_chance <= .70\n",
    "truck_present"
   ]
  },
  {
   "cell_type": "code",
   "execution_count": 106,
   "id": "acfcef4d",
   "metadata": {},
   "outputs": [
    {
     "data": {
      "text/plain": [
       "0.6986714285714286"
      ]
     },
     "execution_count": 106,
     "metadata": {},
     "output_type": "execute_result"
    }
   ],
   "source": [
    "truck_present_rate = truck_present.astype(int).mean()\n",
    "truck_present_rate"
   ]
  },
  {
   "cell_type": "code",
   "execution_count": 45,
   "id": "31d65e75",
   "metadata": {},
   "outputs": [
    {
     "data": {
      "text/plain": [
       "0.3535"
      ]
     },
     "execution_count": 45,
     "metadata": {},
     "output_type": "execute_result"
    }
   ],
   "source": [
    "(truck_present.sum(axis=1) <= 4).mean()"
   ]
  },
  {
   "cell_type": "markdown",
   "id": "4b45ff3f",
   "metadata": {},
   "source": [
    "There is a 35% probability that a truck is present 4 or less days of the week."
   ]
  },
  {
   "cell_type": "code",
   "execution_count": 46,
   "id": "acfd6261",
   "metadata": {},
   "outputs": [
    {
     "data": {
      "text/plain": [
       "0.9995"
      ]
     },
     "execution_count": 46,
     "metadata": {},
     "output_type": "execute_result"
    }
   ],
   "source": [
    "(truck_present.sum(axis=1) >=1).mean()"
   ]
  },
  {
   "cell_type": "markdown",
   "id": "889efa83",
   "metadata": {},
   "source": [
    "There is a 99.95% probability that a truck will be present this week."
   ]
  },
  {
   "cell_type": "markdown",
   "id": "c04b7624",
   "metadata": {},
   "source": [
    "## Q8"
   ]
  },
  {
   "cell_type": "code",
   "execution_count": 107,
   "id": "196e9381",
   "metadata": {},
   "outputs": [],
   "source": [
    "n_trials = nrows = 10000\n",
    "n_people = ncols = 23\n",
    "\n",
    "birthdays = np.random.uniform(1,366,nrows*ncols).astype(int).reshape(nrows,ncols)\n",
    "#birthdays"
   ]
  },
  {
   "cell_type": "code",
   "execution_count": 110,
   "id": "2d077e62",
   "metadata": {},
   "outputs": [],
   "source": [
    "n = pd.DataFrame(birthdays).nunique(axis = 1)"
   ]
  },
  {
   "cell_type": "code",
   "execution_count": 111,
   "id": "388bff8e",
   "metadata": {},
   "outputs": [
    {
     "data": {
      "text/plain": [
       "0.5101"
      ]
     },
     "execution_count": 111,
     "metadata": {},
     "output_type": "execute_result"
    }
   ],
   "source": [
    "(n<23).mean()"
   ]
  },
  {
   "cell_type": "code",
   "execution_count": null,
   "id": "f5eaaf07",
   "metadata": {},
   "outputs": [],
   "source": []
  }
 ],
 "metadata": {
  "kernelspec": {
   "display_name": "Python 3 (ipykernel)",
   "language": "python",
   "name": "python3"
  },
  "language_info": {
   "codemirror_mode": {
    "name": "ipython",
    "version": 3
   },
   "file_extension": ".py",
   "mimetype": "text/x-python",
   "name": "python",
   "nbconvert_exporter": "python",
   "pygments_lexer": "ipython3",
   "version": "3.9.12"
  }
 },
 "nbformat": 4,
 "nbformat_minor": 5
}
