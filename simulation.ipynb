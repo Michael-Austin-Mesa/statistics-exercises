{
 "cells": [
  {
   "cell_type": "code",
   "execution_count": 1,
   "id": "36a8f247",
   "metadata": {},
   "outputs": [],
   "source": [
    "import numpy as np\n",
    "import pandas as pd\n",
    "import matplotlib.pyplot as plt\n",
    "%config InlineBackend.figure_format = 'retina'"
   ]
  },
  {
   "cell_type": "markdown",
   "id": "7bc556c6",
   "metadata": {},
   "source": [
    "## Q1"
   ]
  },
  {
   "cell_type": "code",
   "execution_count": 2,
   "id": "ca2d9b0e",
   "metadata": {},
   "outputs": [
    {
     "data": {
      "text/plain": [
       "array([[6],\n",
       "       [5],\n",
       "       [2],\n",
       "       ...,\n",
       "       [1],\n",
       "       [6],\n",
       "       [3]])"
      ]
     },
     "execution_count": 2,
     "metadata": {},
     "output_type": "execute_result"
    }
   ],
   "source": [
    "n_trials = nrows = 10_000\n",
    "n_dice = ncols = 1\n",
    "\n",
    "roll1 = np.random.choice([1, 2, 3, 4, 5, 6], n_trials * n_dice).reshape(nrows, ncols)\n",
    "roll2 = np.random.choice([1, 2, 3, 4, 5, 6], n_trials * n_dice).reshape(nrows, ncols)\n",
    "\n",
    "roll1\n",
    "roll2"
   ]
  },
  {
   "cell_type": "code",
   "execution_count": 3,
   "id": "eb010131",
   "metadata": {},
   "outputs": [
    {
     "data": {
      "text/plain": [
       "array([[ True],\n",
       "       [False],\n",
       "       [False],\n",
       "       ...,\n",
       "       [False],\n",
       "       [False],\n",
       "       [False]])"
      ]
     },
     "execution_count": 3,
     "metadata": {},
     "output_type": "execute_result"
    }
   ],
   "source": [
    "doubles = roll1 == roll2\n",
    "doubles"
   ]
  },
  {
   "cell_type": "code",
   "execution_count": 4,
   "id": "111c10c1",
   "metadata": {},
   "outputs": [
    {
     "data": {
      "text/plain": [
       "1673"
      ]
     },
     "execution_count": 4,
     "metadata": {},
     "output_type": "execute_result"
    }
   ],
   "source": [
    "total_doubles = doubles.sum()\n",
    "total_doubles"
   ]
  },
  {
   "cell_type": "code",
   "execution_count": 5,
   "id": "6ae3730f",
   "metadata": {},
   "outputs": [
    {
     "data": {
      "text/plain": [
       "0.1673"
      ]
     },
     "execution_count": 5,
     "metadata": {},
     "output_type": "execute_result"
    }
   ],
   "source": [
    "doubles_rate = doubles.astype(int).mean()\n",
    "doubles_rate"
   ]
  },
  {
   "cell_type": "markdown",
   "id": "c92ec390",
   "metadata": {},
   "source": [
    "The probability of rolling doubles when rolling two dice is .1609 out of 1, or ~16% of 100%"
   ]
  },
  {
   "cell_type": "markdown",
   "id": "d1aae169",
   "metadata": {},
   "source": [
    "## Q2"
   ]
  },
  {
   "cell_type": "code",
   "execution_count": 6,
   "id": "6a58ce4d",
   "metadata": {},
   "outputs": [
    {
     "data": {
      "text/plain": [
       "array([[0, 1, 0, ..., 1, 1, 0],\n",
       "       [0, 0, 0, ..., 1, 1, 0],\n",
       "       [1, 1, 1, ..., 0, 1, 1],\n",
       "       ...,\n",
       "       [1, 0, 1, ..., 0, 1, 1],\n",
       "       [0, 1, 1, ..., 0, 1, 0],\n",
       "       [1, 1, 1, ..., 1, 1, 1]])"
      ]
     },
     "execution_count": 6,
     "metadata": {},
     "output_type": "execute_result"
    }
   ],
   "source": [
    "n_trials = nrows = 10_000\n",
    "n_coins = ncols = 8\n",
    "\n",
    "flips = np.random.choice([0,1], n_trials * n_coins).reshape(nrows, ncols)\n",
    "flips"
   ]
  },
  {
   "cell_type": "code",
   "execution_count": 7,
   "id": "f265de60",
   "metadata": {},
   "outputs": [
    {
     "data": {
      "text/plain": [
       "array([5, 3, 5, ..., 6, 3, 7])"
      ]
     },
     "execution_count": 7,
     "metadata": {},
     "output_type": "execute_result"
    }
   ],
   "source": [
    "headcount = flips.sum(axis=1)\n",
    "headcount"
   ]
  },
  {
   "cell_type": "code",
   "execution_count": 8,
   "id": "04c79782",
   "metadata": {},
   "outputs": [
    {
     "data": {
      "text/plain": [
       "array([False,  True, False, ..., False,  True, False])"
      ]
     },
     "execution_count": 8,
     "metadata": {},
     "output_type": "execute_result"
    }
   ],
   "source": [
    "success1 = headcount == 3\n",
    "success1"
   ]
  },
  {
   "cell_type": "code",
   "execution_count": 9,
   "id": "f16d0360",
   "metadata": {},
   "outputs": [
    {
     "data": {
      "text/plain": [
       "2216"
      ]
     },
     "execution_count": 9,
     "metadata": {},
     "output_type": "execute_result"
    }
   ],
   "source": [
    "success1.sum()"
   ]
  },
  {
   "cell_type": "code",
   "execution_count": 10,
   "id": "439f91cc",
   "metadata": {},
   "outputs": [
    {
     "data": {
      "text/plain": [
       "0.2216"
      ]
     },
     "execution_count": 10,
     "metadata": {},
     "output_type": "execute_result"
    }
   ],
   "source": [
    "success1_rate = success1.astype(int).mean()\n",
    "success1_rate"
   ]
  },
  {
   "cell_type": "markdown",
   "id": "8f9e4872",
   "metadata": {},
   "source": [
    "The probability of getting exactly 3 heads is ~22% of 100%"
   ]
  },
  {
   "cell_type": "code",
   "execution_count": 11,
   "id": "8a23a09f",
   "metadata": {},
   "outputs": [
    {
     "data": {
      "text/plain": [
       "array([ True, False,  True, ...,  True, False,  True])"
      ]
     },
     "execution_count": 11,
     "metadata": {},
     "output_type": "execute_result"
    }
   ],
   "source": [
    "success2 = headcount > 3\n",
    "success2"
   ]
  },
  {
   "cell_type": "code",
   "execution_count": 12,
   "id": "88a28243",
   "metadata": {},
   "outputs": [
    {
     "data": {
      "text/plain": [
       "6411"
      ]
     },
     "execution_count": 12,
     "metadata": {},
     "output_type": "execute_result"
    }
   ],
   "source": [
    "success2.sum()"
   ]
  },
  {
   "cell_type": "code",
   "execution_count": 13,
   "id": "0d3be7a3",
   "metadata": {},
   "outputs": [
    {
     "data": {
      "text/plain": [
       "0.6411"
      ]
     },
     "execution_count": 13,
     "metadata": {},
     "output_type": "execute_result"
    }
   ],
   "source": [
    "success2_rate = success2.astype(int).mean()\n",
    "success2_rate"
   ]
  },
  {
   "cell_type": "markdown",
   "id": "6e5799fc",
   "metadata": {},
   "source": [
    "The probability of getting more than 3 heads is ~64% of 100%"
   ]
  },
  {
   "cell_type": "markdown",
   "id": "1034762c",
   "metadata": {},
   "source": [
    "## Q3"
   ]
  },
  {
   "cell_type": "code",
   "execution_count": 14,
   "id": "ae7e29f1",
   "metadata": {},
   "outputs": [
    {
     "data": {
      "text/plain": [
       "array([[4, 2],\n",
       "       [2, 3],\n",
       "       [1, 4],\n",
       "       ...,\n",
       "       [3, 1],\n",
       "       [2, 3],\n",
       "       [3, 1]])"
      ]
     },
     "execution_count": 14,
     "metadata": {},
     "output_type": "execute_result"
    }
   ],
   "source": [
    "n_trials = nrows = 10_000\n",
    "n_alum = ncols = 2\n",
    "\n",
    "alum = np.random.choice([1,2,3,4], n_trials * n_alum).reshape(nrows, ncols)\n",
    "alum"
   ]
  },
  {
   "cell_type": "markdown",
   "id": "4b6188ea",
   "metadata": {},
   "source": [
    "Let's say that a value of 1 means that the chosen student is from data science."
   ]
  },
  {
   "cell_type": "code",
   "execution_count": 15,
   "id": "eefe3517",
   "metadata": {},
   "outputs": [
    {
     "data": {
      "text/plain": [
       "array([6, 5, 5, ..., 4, 5, 4])"
      ]
     },
     "execution_count": 15,
     "metadata": {},
     "output_type": "execute_result"
    }
   ],
   "source": [
    "alum_select = alum.sum(axis=1)\n",
    "alum_select"
   ]
  },
  {
   "cell_type": "code",
   "execution_count": 16,
   "id": "0dbdf87e",
   "metadata": {},
   "outputs": [
    {
     "data": {
      "text/plain": [
       "array([False, False, False, ..., False, False, False])"
      ]
     },
     "execution_count": 16,
     "metadata": {},
     "output_type": "execute_result"
    }
   ],
   "source": [
    "double_ds = alum_select == 2\n",
    "double_ds"
   ]
  },
  {
   "cell_type": "code",
   "execution_count": 17,
   "id": "68110c88",
   "metadata": {},
   "outputs": [
    {
     "data": {
      "text/plain": [
       "628"
      ]
     },
     "execution_count": 17,
     "metadata": {},
     "output_type": "execute_result"
    }
   ],
   "source": [
    "double_ds.sum()"
   ]
  },
  {
   "cell_type": "code",
   "execution_count": 18,
   "id": "a7649480",
   "metadata": {},
   "outputs": [
    {
     "data": {
      "text/plain": [
       "0.0628"
      ]
     },
     "execution_count": 18,
     "metadata": {},
     "output_type": "execute_result"
    }
   ],
   "source": [
    "double_ds_rate = double_ds.astype(int).mean()\n",
    "double_ds_rate"
   ]
  },
  {
   "cell_type": "markdown",
   "id": "9f9a98b0",
   "metadata": {},
   "source": [
    "There is a 6.24% probability of DS alumni being on two billboards passed in a row."
   ]
  },
  {
   "cell_type": "markdown",
   "id": "9110d984",
   "metadata": {},
   "source": [
    "## Q4"
   ]
  },
  {
   "cell_type": "code",
   "execution_count": 19,
   "id": "6aa1b68c",
   "metadata": {},
   "outputs": [
    {
     "data": {
      "text/plain": [
       "array([[ 3.12564128,  0.52405106,  4.22823753,  3.42991578,  2.93276044],\n",
       "       [ 1.86971708,  4.94819201,  0.26645649,  0.84885894,  1.48605022],\n",
       "       [ 2.87265152,  2.39078447,  3.37391803,  3.73575403,  3.47459535],\n",
       "       ...,\n",
       "       [ 5.33338777,  3.93392579,  3.49340665,  3.53959916,  0.99798227],\n",
       "       [ 2.55267996,  2.02595929,  4.4982688 ,  2.47454424,  2.22820617],\n",
       "       [ 2.71946556, -0.03834588,  1.59734957,  3.73992805,  0.78795418]])"
      ]
     },
     "execution_count": 19,
     "metadata": {},
     "output_type": "execute_result"
    }
   ],
   "source": [
    "n_trials = nrows = 10_000\n",
    "n_pops = ncols = 5\n",
    "\n",
    "pops_weekly=np.random.normal(3, 1.5, 50000).reshape(nrows,ncols)\n",
    "pops_weekly"
   ]
  },
  {
   "cell_type": "code",
   "execution_count": 20,
   "id": "f37acfee",
   "metadata": {},
   "outputs": [
    {
     "data": {
      "text/plain": [
       "array([ 2.7593939 ,  7.58072525,  1.15229661, ..., -0.29830164,\n",
       "        3.22034154,  8.19364852])"
      ]
     },
     "execution_count": 20,
     "metadata": {},
     "output_type": "execute_result"
    }
   ],
   "source": [
    "friday=17-pops_weekly.sum(axis=1)\n",
    "friday"
   ]
  },
  {
   "cell_type": "code",
   "execution_count": 21,
   "id": "07a33cee",
   "metadata": {},
   "outputs": [
    {
     "data": {
      "text/plain": [
       "array([ True,  True,  True, ..., False,  True,  True])"
      ]
     },
     "execution_count": 21,
     "metadata": {},
     "output_type": "execute_result"
    }
   ],
   "source": [
    "pop_fri = friday > 0\n",
    "pop_fri"
   ]
  },
  {
   "cell_type": "code",
   "execution_count": 22,
   "id": "19ddcc13",
   "metadata": {},
   "outputs": [
    {
     "data": {
      "text/plain": [
       "0.7237"
      ]
     },
     "execution_count": 22,
     "metadata": {},
     "output_type": "execute_result"
    }
   ],
   "source": [
    "pop_fri_rate = pop_fri.astype(int).mean()\n",
    "pop_fri_rate"
   ]
  },
  {
   "cell_type": "markdown",
   "id": "c7415fa4",
   "metadata": {},
   "source": [
    "There is a ~72% probability that there will be poptarts available by Friday afternoon."
   ]
  },
  {
   "cell_type": "markdown",
   "id": "4fd4bfa6",
   "metadata": {},
   "source": [
    "## Q5"
   ]
  },
  {
   "cell_type": "code",
   "execution_count": 23,
   "id": "51081f14",
   "metadata": {},
   "outputs": [],
   "source": [
    "n_trials = nrows = 10_000\n",
    "n_people = ncols = 2\n",
    "\n",
    "men = np.random.normal(178, 8, nrows)\n",
    "women = np.random.normal(170, 6, nrows)\n",
    "#men_and_women = [men,women]\n",
    "#men_and_women"
   ]
  },
  {
   "cell_type": "code",
   "execution_count": 24,
   "id": "28d48a57",
   "metadata": {},
   "outputs": [
    {
     "data": {
      "text/plain": [
       "array([False, False,  True, ..., False, False,  True])"
      ]
     },
     "execution_count": 24,
     "metadata": {},
     "output_type": "execute_result"
    }
   ],
   "source": [
    "women_taller = men < women\n",
    "women_taller"
   ]
  },
  {
   "cell_type": "code",
   "execution_count": 25,
   "id": "7fa5df32",
   "metadata": {},
   "outputs": [
    {
     "data": {
      "text/plain": [
       "0.2189"
      ]
     },
     "execution_count": 25,
     "metadata": {},
     "output_type": "execute_result"
    }
   ],
   "source": [
    "women_taller.astype(int).mean()"
   ]
  },
  {
   "cell_type": "markdown",
   "id": "beea2d9b",
   "metadata": {},
   "source": [
    "There is ~21% probability of the woman being taller than the man."
   ]
  },
  {
   "cell_type": "markdown",
   "id": "a84fdf14",
   "metadata": {},
   "source": [
    "## Q6"
   ]
  },
  {
   "cell_type": "code",
   "execution_count": 26,
   "id": "ed43f12e",
   "metadata": {},
   "outputs": [],
   "source": [
    "n_trials = nrows = 50\n",
    "n_students = ncols = 1\n",
    "\n",
    "installs = np.random.uniform(1,250, nrows).astype(int).reshape(nrows,ncols)\n",
    "#installs"
   ]
  },
  {
   "cell_type": "code",
   "execution_count": 27,
   "id": "61e95aef",
   "metadata": {},
   "outputs": [],
   "source": [
    "corrupt = installs == 1\n",
    "#corrupt"
   ]
  },
  {
   "cell_type": "code",
   "execution_count": 28,
   "id": "234e3c2a",
   "metadata": {},
   "outputs": [
    {
     "data": {
      "text/plain": [
       "0.0"
      ]
     },
     "execution_count": 28,
     "metadata": {},
     "output_type": "execute_result"
    }
   ],
   "source": [
    "corrupt_rate = corrupt.astype(int).mean()\n",
    "corrupt_rate"
   ]
  },
  {
   "cell_type": "code",
   "execution_count": 29,
   "id": "ee13d064",
   "metadata": {},
   "outputs": [
    {
     "data": {
      "text/plain": [
       "1.0"
      ]
     },
     "execution_count": 29,
     "metadata": {},
     "output_type": "execute_result"
    }
   ],
   "source": [
    "(corrupt.sum(axis=1) == 0).mean()"
   ]
  },
  {
   "cell_type": "markdown",
   "id": "ebd0f9a7",
   "metadata": {},
   "source": [
    "Out of 50 students, ~2% (1 student) had a corrupted download."
   ]
  },
  {
   "cell_type": "markdown",
   "id": "28ba291b",
   "metadata": {},
   "source": [
    "About 98% chance of installation resulting in no corruption."
   ]
  },
  {
   "cell_type": "code",
   "execution_count": 30,
   "id": "0fc2b0f0",
   "metadata": {},
   "outputs": [],
   "source": [
    "n_trials = nrows = 100\n",
    "n_students = ncols = 1\n",
    "\n",
    "installs = np.random.uniform(1,250, nrows).astype(int).reshape(nrows,ncols)\n",
    "#installs"
   ]
  },
  {
   "cell_type": "code",
   "execution_count": 31,
   "id": "6fab4317",
   "metadata": {},
   "outputs": [],
   "source": [
    "corrupt = installs == 1\n",
    "#corrupt"
   ]
  },
  {
   "cell_type": "code",
   "execution_count": 32,
   "id": "ab48835b",
   "metadata": {},
   "outputs": [
    {
     "data": {
      "text/plain": [
       "0.0"
      ]
     },
     "execution_count": 32,
     "metadata": {},
     "output_type": "execute_result"
    }
   ],
   "source": [
    "corrupt_rate = corrupt.astype(int).mean()\n",
    "corrupt_rate"
   ]
  },
  {
   "cell_type": "code",
   "execution_count": 33,
   "id": "3b5892df",
   "metadata": {},
   "outputs": [
    {
     "data": {
      "text/plain": [
       "1.0"
      ]
     },
     "execution_count": 33,
     "metadata": {},
     "output_type": "execute_result"
    }
   ],
   "source": [
    "(corrupt.sum(axis=1) == 0).mean()"
   ]
  },
  {
   "cell_type": "markdown",
   "id": "52f01131",
   "metadata": {},
   "source": [
    "~98% chance of no corruption"
   ]
  },
  {
   "cell_type": "code",
   "execution_count": 34,
   "id": "c6342d02",
   "metadata": {},
   "outputs": [],
   "source": [
    "n_trials = nrows = 150\n",
    "n_students = ncols = 1\n",
    "\n",
    "installs = np.random.uniform(1,250, nrows).astype(int).reshape(nrows,ncols)\n",
    "#installs"
   ]
  },
  {
   "cell_type": "code",
   "execution_count": 35,
   "id": "468407ce",
   "metadata": {},
   "outputs": [],
   "source": [
    "corrupt = installs == 1"
   ]
  },
  {
   "cell_type": "code",
   "execution_count": 36,
   "id": "2972944d",
   "metadata": {},
   "outputs": [
    {
     "data": {
      "text/plain": [
       "0.006666666666666667"
      ]
     },
     "execution_count": 36,
     "metadata": {},
     "output_type": "execute_result"
    }
   ],
   "source": [
    "corrupt_rate = corrupt.astype(int).mean()\n",
    "corrupt_rate"
   ]
  },
  {
   "cell_type": "code",
   "execution_count": 37,
   "id": "ddc6b2d8",
   "metadata": {},
   "outputs": [
    {
     "data": {
      "text/plain": [
       "0.9933333333333333"
      ]
     },
     "execution_count": 37,
     "metadata": {},
     "output_type": "execute_result"
    }
   ],
   "source": [
    "(corrupt.sum(axis=1) == 0).mean()"
   ]
  },
  {
   "cell_type": "markdown",
   "id": "f0cb17f5",
   "metadata": {},
   "source": [
    "~98% chance of no corruption"
   ]
  },
  {
   "cell_type": "code",
   "execution_count": 38,
   "id": "a775f5e6",
   "metadata": {},
   "outputs": [],
   "source": [
    "n_trials = nrows = 450\n",
    "n_students = ncols = 1\n",
    "\n",
    "installs = np.random.uniform(1,250, nrows).astype(int).reshape(nrows,ncols)\n",
    "#installs"
   ]
  },
  {
   "cell_type": "code",
   "execution_count": 39,
   "id": "92581576",
   "metadata": {},
   "outputs": [],
   "source": [
    "corrupt = installs == 1"
   ]
  },
  {
   "cell_type": "code",
   "execution_count": 40,
   "id": "11af4c77",
   "metadata": {},
   "outputs": [
    {
     "data": {
      "text/plain": [
       "0.006666666666666667"
      ]
     },
     "execution_count": 40,
     "metadata": {},
     "output_type": "execute_result"
    }
   ],
   "source": [
    "corrupt_rate = corrupt.astype(int).mean()\n",
    "corrupt_rate"
   ]
  },
  {
   "cell_type": "code",
   "execution_count": 41,
   "id": "1ae9d5bb",
   "metadata": {},
   "outputs": [
    {
     "data": {
      "text/plain": [
       "0.9933333333333333"
      ]
     },
     "execution_count": 41,
     "metadata": {},
     "output_type": "execute_result"
    }
   ],
   "source": [
    "(corrupt.sum(axis=1) == 0).mean()"
   ]
  },
  {
   "cell_type": "markdown",
   "id": "bbcd947c",
   "metadata": {},
   "source": [
    "~98% chance of no corruption"
   ]
  },
  {
   "cell_type": "markdown",
   "id": "8b4caf48",
   "metadata": {},
   "source": [
    "## Q7"
   ]
  },
  {
   "cell_type": "code",
   "execution_count": 42,
   "id": "c108a15d",
   "metadata": {},
   "outputs": [],
   "source": [
    "n_trials = nrows = 10000\n",
    "n_week = ncols = 7\n",
    "\n",
    "truck_chance = np.random.random(nrows*ncols).reshape(nrows,ncols)\n",
    "#truck_chance"
   ]
  },
  {
   "cell_type": "code",
   "execution_count": 43,
   "id": "49aa04fc",
   "metadata": {},
   "outputs": [
    {
     "data": {
      "text/plain": [
       "array([[ True,  True, False, ..., False,  True,  True],\n",
       "       [False,  True,  True, ...,  True,  True,  True],\n",
       "       [ True,  True,  True, ..., False,  True,  True],\n",
       "       ...,\n",
       "       [False,  True,  True, ..., False,  True, False],\n",
       "       [ True,  True,  True, ...,  True,  True,  True],\n",
       "       [False, False,  True, ...,  True,  True,  True]])"
      ]
     },
     "execution_count": 43,
     "metadata": {},
     "output_type": "execute_result"
    }
   ],
   "source": [
    "truck_present = truck_chance <= .70\n",
    "truck_present"
   ]
  },
  {
   "cell_type": "code",
   "execution_count": 44,
   "id": "33b2efd9",
   "metadata": {},
   "outputs": [
    {
     "data": {
      "text/plain": [
       "0.7002"
      ]
     },
     "execution_count": 44,
     "metadata": {},
     "output_type": "execute_result"
    }
   ],
   "source": [
    "truck_present_rate = truck_present.astype(int).mean()\n",
    "truck_present_rate"
   ]
  },
  {
   "cell_type": "code",
   "execution_count": 45,
   "id": "9d1dc2d1",
   "metadata": {},
   "outputs": [
    {
     "data": {
      "text/plain": [
       "0.3535"
      ]
     },
     "execution_count": 45,
     "metadata": {},
     "output_type": "execute_result"
    }
   ],
   "source": [
    "(truck_present.sum(axis=1) <= 4).mean()"
   ]
  },
  {
   "cell_type": "markdown",
   "id": "196cde06",
   "metadata": {},
   "source": [
    "There is a 35% probability that a truck is present 4 or less days of the week."
   ]
  },
  {
   "cell_type": "code",
   "execution_count": 46,
   "id": "7c388b9c",
   "metadata": {},
   "outputs": [
    {
     "data": {
      "text/plain": [
       "0.9995"
      ]
     },
     "execution_count": 46,
     "metadata": {},
     "output_type": "execute_result"
    }
   ],
   "source": [
    "(truck_present.sum(axis=1) >=1).mean()"
   ]
  },
  {
   "cell_type": "markdown",
   "id": "0ac809f8",
   "metadata": {},
   "source": [
    "There is a 99.95% probability that a truck will be present this week."
   ]
  },
  {
   "cell_type": "markdown",
   "id": "f054fa5f",
   "metadata": {},
   "source": [
    "## Q8"
   ]
  },
  {
   "cell_type": "code",
   "execution_count": 56,
   "id": "1ca45981",
   "metadata": {},
   "outputs": [],
   "source": [
    "n_trials = nrows = 10000\n",
    "n_people = ncols = 23\n",
    "\n",
    "birthdays = np.random.uniform(1,365,nrows*ncols).astype(int).reshape(nrows,ncols)\n",
    "#birthdays"
   ]
  }
 ],
 "metadata": {
  "kernelspec": {
   "display_name": "Python 3 (ipykernel)",
   "language": "python",
   "name": "python3"
  },
  "language_info": {
   "codemirror_mode": {
    "name": "ipython",
    "version": 3
   },
   "file_extension": ".py",
   "mimetype": "text/x-python",
   "name": "python",
   "nbconvert_exporter": "python",
   "pygments_lexer": "ipython3",
   "version": "3.9.12"
  }
 },
 "nbformat": 4,
 "nbformat_minor": 5
}
