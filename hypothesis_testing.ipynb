{
 "cells": [
  {
   "cell_type": "markdown",
   "id": "8a60b03c",
   "metadata": {},
   "source": [
    "# Overview Exercises"
   ]
  },
  {
   "cell_type": "markdown",
   "id": "6d7d4930",
   "metadata": {},
   "source": [
    "## Q1"
   ]
  },
  {
   "cell_type": "markdown",
   "id": "439d83bc",
   "metadata": {},
   "source": [
    " Question: Has the network latency gone up since we switched internet service providers?"
   ]
  },
  {
   "cell_type": "markdown",
   "id": "c193af8a",
   "metadata": {},
   "source": [
    "Hypothesis translation: Is there a relationship between network latency and internet service providers?"
   ]
  },
  {
   "cell_type": "markdown",
   "id": "46f5d83a",
   "metadata": {},
   "source": [
    "H_{0}: There is no relationship between network latency and internet service providers."
   ]
  },
  {
   "cell_type": "markdown",
   "id": "e606c2b7",
   "metadata": {},
   "source": [
    "H_{A}: There is a relationship between network latency and internet service providers."
   ]
  },
  {
   "cell_type": "markdown",
   "id": "73b8121d",
   "metadata": {},
   "source": [
    "There is continuous (network_latency, numeric) and discrete (is_new_isp, boolean) data. "
   ]
  },
  {
   "cell_type": "markdown",
   "id": "8977072a",
   "metadata": {},
   "source": [
    "boolean x numeric: comparison of means (t-test) across the 2 groups"
   ]
  },
  {
   "cell_type": "markdown",
   "id": "2f5114c1",
   "metadata": {},
   "source": [
    "True positive will reject our H_{0} and H_{A} would be true. Our data would show there is a relationship between network latency and internet service providers, and, in reality, we know there is a relationship between latency and internet service providers."
   ]
  },
  {
   "cell_type": "markdown",
   "id": "e5c0687f",
   "metadata": {},
   "source": [
    "True negative will fail to reject our H_{0} and H_{0} would be true. Our data would show there is no relationship between network latency and internet service providers, and, in reality, we know there is no relationship between latency and internet service providers."
   ]
  },
  {
   "cell_type": "markdown",
   "id": "f0693472",
   "metadata": {},
   "source": [
    "False positive (type I) will reject our H_{0} but H_{0} would be true. This means that our data would show that there is a relationship between network latency and internet service providers, but, in reality, we know that there is not a relationship between latency and internet service providers."
   ]
  },
  {
   "cell_type": "markdown",
   "id": "b611ce54",
   "metadata": {},
   "source": [
    "False negative (type II) will fail to reject our H_{0} but H_{A} would be true. This means that our data would show that there is no relationship between network latency and internet service providers, but, in reality, we know that there is a relationship between latency and internet service providers."
   ]
  },
  {
   "cell_type": "markdown",
   "id": "0a5c886c",
   "metadata": {},
   "source": [
    "## Q2"
   ]
  },
  {
   "cell_type": "markdown",
   "id": "841a8e5b",
   "metadata": {},
   "source": [
    "Question: Is the website redesign any good?"
   ]
  },
  {
   "cell_type": "markdown",
   "id": "d83a3868",
   "metadata": {},
   "source": [
    "Hypothesis translation: Is there a relationship between website clicks and the website redesign?"
   ]
  },
  {
   "cell_type": "markdown",
   "id": "e4be7d38",
   "metadata": {},
   "source": [
    "There is continuous (website_clicks, numeric) and discrete (is_redesign, boolean) data."
   ]
  },
  {
   "cell_type": "markdown",
   "id": "0b66214e",
   "metadata": {},
   "source": [
    "boolean x numeric: comparison of means (t-test) across the 2 groups"
   ]
  },
  {
   "cell_type": "markdown",
   "id": "ad311b0f",
   "metadata": {},
   "source": [
    "True positive will reject our H_{0} and H_{A} would be true. Our data would show there is a relationship between website clicks and website redesign, and, in reality, we know there is a relationship between website clicks and website redesign."
   ]
  },
  {
   "cell_type": "markdown",
   "id": "5483ee69",
   "metadata": {},
   "source": [
    "True negative will fail to reject our H_{0} and H_{0} would be true. Our data would show there is no relationship between website clicks and website redesign, and, in reality, we know there is no relationship between website clicks and website redesign."
   ]
  },
  {
   "cell_type": "markdown",
   "id": "e08c1f33",
   "metadata": {},
   "source": [
    "False positive (type I) will reject our H_{0} but H_{0} would be true. This means that our data would show that there is a relationship between website clicks and website redesign, but, in reality, we know that there is not a relationship between website clicks and website redesign."
   ]
  },
  {
   "cell_type": "markdown",
   "id": "f4cc4f22",
   "metadata": {},
   "source": [
    "False negative (type II) will fail to reject our H_{0} but H_{A} would be true. This means that our data would show that there is no relationship between website clicks and website redesign, but, in reality, we know that there is a relationship between website clicks and website redesign."
   ]
  },
  {
   "cell_type": "markdown",
   "id": "14da3530",
   "metadata": {},
   "source": [
    "## Q3"
   ]
  },
  {
   "cell_type": "markdown",
   "id": "e09bedd1",
   "metadata": {},
   "source": [
    "Question: Is our television ad driving more sales?"
   ]
  },
  {
   "cell_type": "markdown",
   "id": "2f0cf21b",
   "metadata": {},
   "source": [
    "Hypothesis translation: Is there a relationship between sales and using our television ad?"
   ]
  },
  {
   "cell_type": "markdown",
   "id": "0ddc12da",
   "metadata": {},
   "source": [
    "There is continuous (sales, numeric) and discrete (ad_used, boolean) data."
   ]
  },
  {
   "cell_type": "markdown",
   "id": "8f23fe19",
   "metadata": {},
   "source": [
    "boolean x numeric: comparison of means (t-test) across the 2 groups"
   ]
  },
  {
   "cell_type": "markdown",
   "id": "d9843a86",
   "metadata": {},
   "source": [
    "True positive will reject our H_{0} and H_{A} would be true. Our data would show there is a relationship between sales and using our television ad, and, in reality, we know there is a relationship between sales and using our television ad."
   ]
  },
  {
   "cell_type": "markdown",
   "id": "86723158",
   "metadata": {},
   "source": [
    "True negative will fail to reject our H_{0} and H_{0} would be true. Our data would show there is no relationship between sales and using our television ad, and, in reality, we know there is no relationship between sales and using our television ad."
   ]
  },
  {
   "cell_type": "markdown",
   "id": "c9208cf0",
   "metadata": {},
   "source": [
    "False positive (type I) will reject our H_{0} but H_{0} would be true. This means that our data would show that there is a relationship between website sales and using our television ad, but, in reality, we know that there is not a relationship between sales and using our television ad."
   ]
  },
  {
   "cell_type": "markdown",
   "id": "4ce4175c",
   "metadata": {},
   "source": [
    "False negative (type II) will fail to reject our H_{0} but H_{A} would be true. This means that our data would show that there is no relationship between sales and using our television ad, but, in reality, we know that there is a relationship between sales and using our television ad."
   ]
  },
  {
   "cell_type": "markdown",
   "id": "2e5e3001",
   "metadata": {},
   "source": [
    "# T-Test Exercises"
   ]
  },
  {
   "cell_type": "markdown",
   "id": "90b46b3d",
   "metadata": {},
   "source": [
    "## Q1"
   ]
  },
  {
   "cell_type": "code",
   "execution_count": null,
   "id": "675cee22",
   "metadata": {},
   "outputs": [],
   "source": []
  }
 ],
 "metadata": {
  "kernelspec": {
   "display_name": "Python 3 (ipykernel)",
   "language": "python",
   "name": "python3"
  },
  "language_info": {
   "codemirror_mode": {
    "name": "ipython",
    "version": 3
   },
   "file_extension": ".py",
   "mimetype": "text/x-python",
   "name": "python",
   "nbconvert_exporter": "python",
   "pygments_lexer": "ipython3",
   "version": "3.9.12"
  }
 },
 "nbformat": 4,
 "nbformat_minor": 5
}
